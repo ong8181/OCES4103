{
 "cells": [
  {
   "cell_type": "markdown",
   "id": "ee91071b-5822-4cec-ad01-909aa3cef266",
   "metadata": {},
   "source": [
    "Github repository is here: https://github.com/ong8181/DASC3240"
   ]
  },
  {
   "cell_type": "markdown",
   "id": "420b7e69-b2a3-4f11-b3de-c25b9de4eb68",
   "metadata": {},
   "source": [
    "# R Basics – Introduction to R\n",
    "The contents basically follow this website (https://datacarpentry.org/R-ecology-lesson/01-intro-to-r.html), but some contents are omitted/modified so that they fit OCES 3240."
   ]
  },
  {
   "attachments": {},
   "cell_type": "markdown",
   "id": "8baca36a-0be5-439a-89a7-d2242d0639ce",
   "metadata": {},
   "source": [
    "## References\n",
    "- Data Analysis and Visualization in R for Ecologists: https://datacarpentry.org/R-ecology-lesson\n",
    "- R basics: https://datacarpentry.org/R-ecology-lesson/01-intro-to-r.html\n",
    "- Zenodo archive: http://doi.org/10.5281/zenodo.3264888\n",
    "- License: https://github.com/datacarpentry/R-ecology-lesson?tab=License-1-ov-file\n"
   ]
  },
  {
   "cell_type": "markdown",
   "id": "cc854fca-9214-4adb-b1d2-f6fe7967ae38",
   "metadata": {},
   "source": [
    "# Contents\n",
    "1. Creating objects in R\n",
    "2. Vectors and data types\n",
    "3. Missing data\n",
    "4. `for` and `if`"
   ]
  },
  {
   "cell_type": "markdown",
   "id": "d23a7be2-1e80-4557-a149-2310c1386b15",
   "metadata": {},
   "source": [
    "# 1. Creating objects in R\n",
    "You can get output from R simply by typing math in the console:"
   ]
  },
  {
   "cell_type": "code",
   "execution_count": null,
   "id": "5e80e88a-a2ff-4922-8d73-0f89c73f8354",
   "metadata": {},
   "outputs": [],
   "source": [
    "3 + 5"
   ]
  },
  {
   "cell_type": "code",
   "execution_count": null,
   "id": "85fba0c3-fe3a-4f97-ad52-469770068d4b",
   "metadata": {},
   "outputs": [],
   "source": [
    "12/7"
   ]
  },
  {
   "cell_type": "markdown",
   "id": "85a0130c-c441-4d27-a4d2-2aefdb3a27e8",
   "metadata": {},
   "source": [
    "However, to do useful and interesting things, we need to assign values to objects. To create an object, we need to give it a name followed by the assignment operator `<-` (or you may use `=`), and the value we want to give it:"
   ]
  },
  {
   "cell_type": "code",
   "execution_count": null,
   "id": "9f26ae56-ec1d-49d9-bb48-16a4e4845048",
   "metadata": {},
   "outputs": [],
   "source": [
    "weight_kg <- 55"
   ]
  },
  {
   "cell_type": "markdown",
   "id": "42423856-f581-49b1-89d0-c9bc40b89103",
   "metadata": {},
   "source": [
    "`<-` is the assignment operator we will use in this course. It assigns values on the right to objects on the left. So, after executing `x <- 3`, the value of `x` is `3`. For historical reasons, you can also use = for assignments, but not in every context. Because of the slight differences in syntax, it is good practice to always use `<-` for assignments. You may use a shortcut (e.g., \"Alt\" + \"-\") to type `<-` (depends on your platform)."
   ]
  },
  {
   "cell_type": "markdown",
   "id": "b47c9589-833c-42ee-b41c-175a879972d6",
   "metadata": {},
   "source": [
    "Objects can be given almost any name such as `x`, `current_temperature`, or `subject_id`. Here are some further guidelines on naming objects:\n",
    "\n",
    "- You want your object names to be explicit and not too long.\n",
    "- **They cannot start with a number** (`2x` is not valid, but `x2` is).\n",
    "- R is **case sensitive**, so for example, `weight_kg` is different from `Weight_kg`.\n",
    "- There are some names that cannot be used because they are the names of fundamental functions in R (e.g., `if`, `else`, for, see [here](https://stat.ethz.ch/R-manual/R-devel/library/base/html/Reserved.html) for a complete list).\n",
    "- It’s best to avoid dots (`.`) within names. Many function names in R itself have them and dots also have a special meaning (methods) in R and other programming languages. I recommend to use underbar (`_`) instead.\n",
    "- It is recommended to use nouns for object names and verbs for function names."
   ]
  },
  {
   "cell_type": "markdown",
   "id": "5b097940-b5ad-4424-b3ff-d0041d2aaeea",
   "metadata": {},
   "source": [
    "When assigning a value to an object, R does not print anything. You can force R to print the value by using parentheses or by typing the object name:"
   ]
  },
  {
   "cell_type": "code",
   "execution_count": null,
   "id": "580f6b1b-635a-40c3-a815-c43f42cfa129",
   "metadata": {},
   "outputs": [],
   "source": [
    "weight_kg <- 55    # doesn't print anything\n",
    "(weight_kg <- 55)  # but putting parenthesis around the call prints the value of `weight_kg`\n",
    "weight_kg          # and so does typing the name of the object"
   ]
  },
  {
   "cell_type": "markdown",
   "id": "30c7c854-7728-4d58-8c12-2c56cbd82cb0",
   "metadata": {},
   "source": [
    "Assigning a value to one object does not change the values of other objects. For example, let’s store the animal’s weight in pounds in a new object, `weight_lb`:"
   ]
  },
  {
   "cell_type": "code",
   "execution_count": null,
   "id": "34270fda-0f11-46b6-9372-25c1d1175020",
   "metadata": {},
   "outputs": [],
   "source": [
    "weight_lb <- 2.2 * weight_kg"
   ]
  },
  {
   "cell_type": "markdown",
   "id": "194ec832-e5d6-4c52-936b-33b32e0b03e2",
   "metadata": {},
   "source": [
    "and then change `weight_kg` to 100."
   ]
  },
  {
   "cell_type": "code",
   "execution_count": null,
   "id": "b5ebe56b-f358-4e87-9bd6-6150fdef0b3a",
   "metadata": {},
   "outputs": [],
   "source": [
    "weight_kg <- 100"
   ]
  },
  {
   "cell_type": "markdown",
   "id": "f5669d59-c8db-40b4-ac6f-0548c864c499",
   "metadata": {},
   "source": [
    "What do you think is the current content of the object `weight_lb`? `126.5` or `220`?"
   ]
  },
  {
   "cell_type": "markdown",
   "id": "7b9877ae-fcd7-4a11-9677-98e1295ef704",
   "metadata": {},
   "source": [
    "### Comments\n",
    "The comment character in R is \"#\". Anything to the right of a \"#\" in a script will be ignored by R. **It is useful to leave notes and explanations in your scripts (because you will forget why you wrote the code!)**. For convenience, RStudio provides a keyboard shortcut to comment or uncomment a paragraph: after selecting the lines you want to comment, press at the same time on your keyboard **\"Ctrl + Shift + C\"**. If you only want to comment out one line, you can put the cursor at any location of that line (i.e. no need to select the whole line), then press Ctrl + Shift + C."
   ]
  },
  {
   "cell_type": "markdown",
   "id": "98794835-ef48-402a-855f-70e0a9ebacd0",
   "metadata": {},
   "source": [
    "### Functions and their arguments\n",
    "Functions are “canned scripts” that automate more complicated sets of commands including operations assignments, etc. Many functions are predefined, or can be made available by importing _R packages_ (more on that later). A function usually takes one or more inputs called arguments. Functions often (but not always) return a value. A typical example would be the function `sqrt()`. An example of a function call is:"
   ]
  },
  {
   "cell_type": "markdown",
   "id": "0418ed8c-4830-4882-b842-aeda09148a32",
   "metadata": {},
   "source": [
    "weight_kg <- sqrt(10)\n",
    "weight_kg"
   ]
  },
  {
   "cell_type": "markdown",
   "id": "0d0622ab-4d6b-4152-bed0-eb893e1e3ee0",
   "metadata": {},
   "source": [
    "Let’s try a function that can take multiple arguments: `round()`."
   ]
  },
  {
   "cell_type": "code",
   "execution_count": null,
   "id": "68fcc508-2887-4872-8e2c-28fd5e5e57cc",
   "metadata": {},
   "outputs": [],
   "source": [
    "round(3.14159)"
   ]
  },
  {
   "cell_type": "markdown",
   "id": "b6b77edf-5099-425e-b684-6a4c9c13aff0",
   "metadata": {},
   "source": [
    "Here, we’ve called `round()` with just one argument, `3.14159`, and it has returned the value `3`. That’s because the default is to round to the nearest whole number. We can use `args(round)` or `?round` to find more information."
   ]
  },
  {
   "cell_type": "code",
   "execution_count": null,
   "id": "3d26cc3e-c825-49a5-8ed3-737028d78845",
   "metadata": {},
   "outputs": [],
   "source": [
    "args(round)"
   ]
  },
  {
   "cell_type": "code",
   "execution_count": null,
   "id": "d582439f-f3c2-461c-a754-c9dc4006126f",
   "metadata": {},
   "outputs": [],
   "source": [
    "?round"
   ]
  },
  {
   "cell_type": "markdown",
   "id": "c5e500cc-bbc1-423d-9613-7e08ae8e2d60",
   "metadata": {},
   "source": [
    "We see that if we want a different number of digits, we can type `digits = 2` or however many we want."
   ]
  },
  {
   "cell_type": "code",
   "execution_count": null,
   "id": "17ac85f9-15e7-48f0-baa3-bf2a7e3e17e9",
   "metadata": {},
   "outputs": [],
   "source": [
    "round(3.14159, digits = 2)"
   ]
  },
  {
   "cell_type": "markdown",
   "id": "69394cb2-69ed-4188-8773-01192d8eb31e",
   "metadata": {},
   "source": [
    "If you provide the arguments in the exact same order as they are defined you don’t have to name them:"
   ]
  },
  {
   "cell_type": "code",
   "execution_count": null,
   "id": "c66acca9-6690-4cee-a06f-4ca86d4ff47f",
   "metadata": {},
   "outputs": [],
   "source": [
    "round(3.14159, 2)"
   ]
  },
  {
   "cell_type": "markdown",
   "id": "28b0e40e-d9da-45d6-83a9-33ff911b41d8",
   "metadata": {},
   "source": [
    "And if you do name the arguments, you can switch their order:"
   ]
  },
  {
   "cell_type": "code",
   "execution_count": null,
   "id": "81a04168-89c9-43db-bb91-f2e4b57321c2",
   "metadata": {},
   "outputs": [],
   "source": [
    "round(digits = 2, x = 3.14159)"
   ]
  },
  {
   "cell_type": "markdown",
   "id": "6a7eaf55-df58-4732-a8e1-ac58e47ceb73",
   "metadata": {},
   "source": [
    "# 2. Vectors and data types\n",
    "A vector is the most common and basic data type in R, and is pretty much the workhorse of R. A vector is composed by a series of values, which can be either numbers or characters. We can assign a series of values to a vector using the `c()` function (perhaps it stands for \"combine\" or \"concatenate\"). For example we can create a vector of animal weights and assign it to a new object `weight_g`:"
   ]
  },
  {
   "cell_type": "code",
   "execution_count": null,
   "id": "ff5c14d7-dae2-4af7-b427-a54b69cef5e7",
   "metadata": {},
   "outputs": [],
   "source": [
    "weight_g <- c(50, 60, 65, 82)\n",
    "weight_g"
   ]
  },
  {
   "cell_type": "markdown",
   "id": "05a97c28-224f-4089-9f0d-2d28c3de6525",
   "metadata": {},
   "source": [
    "A vector can also contain characters:"
   ]
  },
  {
   "cell_type": "code",
   "execution_count": null,
   "id": "7794b2bc-716d-46dd-9402-61b8309a2829",
   "metadata": {},
   "outputs": [],
   "source": [
    "animals <- c(\"mouse\", \"rat\", \"dog\")\n",
    "animals"
   ]
  },
  {
   "cell_type": "markdown",
   "id": "b91158ea-4e3b-463a-83c8-0e40c02af77c",
   "metadata": {},
   "source": [
    "You can check the length and class (= data type) using `length()` and `class()`, respectively."
   ]
  },
  {
   "cell_type": "code",
   "execution_count": null,
   "id": "fc93fb9c-1b25-4242-b524-a9623d44501d",
   "metadata": {},
   "outputs": [],
   "source": [
    "length(weight_g)\n",
    "length(animals)\n",
    "class(weight_g)\n",
    "class(animals)"
   ]
  },
  {
   "cell_type": "markdown",
   "id": "b352a672-45ef-4182-933e-24cdc2ba3593",
   "metadata": {},
   "source": [
    "The function `str()` provides an overview of the structure of an object and its elements. It is a useful function when working with large and complex objects:"
   ]
  },
  {
   "cell_type": "code",
   "execution_count": null,
   "id": "4532a9b7-934f-4a4a-b6fc-021dc40d635d",
   "metadata": {},
   "outputs": [],
   "source": [
    "str(weight_g)\n",
    "str(animals)"
   ]
  },
  {
   "cell_type": "markdown",
   "id": "751890c0-21d4-4915-9f26-849d3ad50084",
   "metadata": {},
   "source": [
    "An **atomic vector** is the simplest R data type and is a linear vector of a single type. Above, we saw 2 of the 6 main atomic vector types that R uses: **\"character\"** and **\"numeric\"** (or **\"double\"**). These are the basic building blocks that all R objects are built from. The other 4 atomic vector types are:\n",
    "- **\"logical\"** for `TRUE` and `FALSE` (the boolean data type)\n",
    "- **\"integer\"** for integer numbers (e.g., `2L`, the `L` indicates to R that it’s an integer)\n",
    "- **\"complex\"** to represent complex numbers with real and imaginary parts (e.g., `1 + 4i`) and that’s all we’re going to say about them\n",
    "- **\"raw\"** for bitstreams that we won’t discuss further\n",
    "\n",
    "You can check the type of your vector using the `typeof()` function and inputting your vector as the argument.\n",
    "\n",
    "Vectors are one of the many **data structures** that R uses. Other important ones are lists (**list**), matrices (**matrix**), data frames (**data.frame**), factors (**factor**) and arrays (**array**)."
   ]
  },
  {
   "cell_type": "markdown",
   "id": "de05ae0d-0c32-4adc-990e-8c7cc5529e4e",
   "metadata": {},
   "source": [
    "### Challenge\n",
    "- Please make a vector that contains multiple types (e.g., \"numeric\" and \"character\") and check what happens if you apply `class()` or `typeof()` to the vector."
   ]
  },
  {
   "cell_type": "markdown",
   "id": "2ae7ea92-0626-40ca-bc00-99149ed2fb5c",
   "metadata": {},
   "source": [
    "# 3. Subsetting vectors\n",
    "If we want to extract one or several values from a vector, we must provide one or several indices in square brackets. For instance:"
   ]
  },
  {
   "cell_type": "code",
   "execution_count": null,
   "id": "76109de0-19e5-41ee-9357-9e66f5f93470",
   "metadata": {},
   "outputs": [],
   "source": [
    "animals <- c(\"mouse\", \"rat\", \"dog\", \"cat\")\n",
    "animals[2]"
   ]
  },
  {
   "cell_type": "markdown",
   "id": "d3c5c5f9-8027-4e26-84f1-e456cb4d3ff0",
   "metadata": {},
   "source": [
    "\\[**NOTE**\\] How to extract value(s) from a vector is different from Python:\n",
    "- In R, **indexing starts from 1**, which means that the first element in a vector is assigned the index 1, the second element is assigned the index 2, and so on. For example, if you have a vector `x` with five elements, the first element is `x[1]`, the second element is `x[2]`, and so on.\n",
    "- In Python, **indexing starts from 0**, which means that the first element in a list is assigned the index 0, the second element is assigned the index 1, and so on. For example, if you have a list `my_list` with five elements, the first element is `my_list[0]`, the second element is `my_list[1]`, and so on."
   ]
  },
  {
   "cell_type": "markdown",
   "id": "da8b20c9-20a4-41de-9f91-23f40579a72b",
   "metadata": {},
   "source": [
    "Other ways to access elements in a vector are as follows:"
   ]
  },
  {
   "cell_type": "code",
   "execution_count": null,
   "id": "219ba75b-c767-4d75-aad9-5068b9c7d7ff",
   "metadata": {
    "scrolled": true
   },
   "outputs": [],
   "source": [
    "animals[c(3, 2)]\n",
    "more_animals <- animals[c(1, 2, 3, 2, 1, 4)]\n",
    "more_animals\n",
    "animals[1:4] # \":\" means numbers from 1 to 4 (= 1, 2, 3, and 4)"
   ]
  },
  {
   "cell_type": "markdown",
   "id": "6115f23d-b95a-434f-a281-270c4af884d0",
   "metadata": {},
   "source": [
    "### Conditional subsetting\n",
    "Another common way of subsetting is by using a logical vector. `TRUE` will select the element with the same index, while `FALSE` will not:"
   ]
  },
  {
   "cell_type": "code",
   "execution_count": null,
   "id": "597520a7-8ffd-47ee-ac60-8a63045f3e11",
   "metadata": {},
   "outputs": [],
   "source": [
    "weight_g <- c(21, 34, 39, 54, 55)\n",
    "weight_g[c(TRUE, FALSE, FALSE, TRUE, TRUE)]"
   ]
  },
  {
   "cell_type": "markdown",
   "id": "33b36e93-2174-42b3-8473-680ce1ae331a",
   "metadata": {},
   "source": [
    "Typically, these logical vectors are not typed by hand, but are the output of other functions or logical tests. For instance, if you wanted to select only the values above 50:"
   ]
  },
  {
   "cell_type": "code",
   "execution_count": null,
   "id": "b9e64cf7-b2a3-4a9f-afd5-0c77d36051af",
   "metadata": {},
   "outputs": [],
   "source": [
    "weight_g > 50    # will return logicals with TRUE for the indices that meet the condition\n",
    "## so we can use this to select only the values above 50\n",
    "weight_g[weight_g > 50]"
   ]
  },
  {
   "cell_type": "markdown",
   "id": "59174212-103f-4c63-a317-af5dbf6ad811",
   "metadata": {},
   "source": [
    "You can combine multiple tests using `&` (both conditions are true, AND) or `|` (at least one of the conditions is true, OR):"
   ]
  },
  {
   "cell_type": "code",
   "execution_count": null,
   "id": "931019e9-471c-4ac5-beb9-f088ea38e558",
   "metadata": {},
   "outputs": [],
   "source": [
    "weight_g[weight_g > 30 & weight_g < 50]\n",
    "weight_g[weight_g <= 30 | weight_g == 55]"
   ]
  },
  {
   "cell_type": "markdown",
   "id": "c3fbb051-b9df-457d-9542-3fcb0572635f",
   "metadata": {},
   "source": [
    "The list of logical operators is as follows:\n",
    "- A `&` B: A and B\n",
    "- A `|` B: A or B\n",
    "- A `>` B: A is more than B?\n",
    "- A `<` B: A is less than B?\n",
    "- A `>=` B: A is more than or equal to B?\n",
    "- A `<=` B: A is less than or equal to B?\n",
    "- A `==` B: A is B?\n",
    "- A `!=` B: A is not B?\n",
    "- A `%in%` B: Any of the elements of A are found in B?"
   ]
  },
  {
   "cell_type": "markdown",
   "id": "cf7667fc-27f4-4e82-968f-696c46ec5cf9",
   "metadata": {},
   "source": [
    "### Challenge\n",
    "- Try typing `\"four\" > \"five\"` in R console. Check the result and figure out why you get the results."
   ]
  },
  {
   "cell_type": "markdown",
   "id": "839b3f77-aa3f-4a3c-8c3d-8ba476727a29",
   "metadata": {},
   "source": [
    "# 3. Missing data\n",
    "As R was designed to analyze datasets, it includes the concept of missing data (which is uncommon in other programming languages). Missing data are represented in vectors as `NA`.\n",
    "\n",
    "When doing operations on numbers (e.g., `sum()` function), most functions will return `NA` if the data you are working with include missing values. This feature makes it harder to overlook the cases where you are dealing with missing data. You can add the argument `na.rm = TRUE` to calculate the result as if the missing values were removed (`rm` stands for ReMoved) first."
   ]
  },
  {
   "cell_type": "code",
   "execution_count": null,
   "id": "d1a0295c-83c9-41cf-ac82-0fa8ff9341e9",
   "metadata": {},
   "outputs": [],
   "source": [
    "heights <- c(2, 4, 4, NA, 6)\n",
    "mean(heights)\n",
    "max(heights)\n",
    "mean(heights, na.rm = TRUE)\n",
    "max(heights, na.rm = TRUE)"
   ]
  },
  {
   "cell_type": "markdown",
   "id": "1f773daa-26f3-4838-8c28-a57ddb25fed2",
   "metadata": {},
   "source": [
    "If your data include missing values, you may want to become familiar with the functions `is.na()`, `na.omit()`, and `complete.cases()`. See below for examples."
   ]
  },
  {
   "cell_type": "code",
   "execution_count": null,
   "id": "f6dc0e22-5843-48dc-89fb-a7d1cf6d4ade",
   "metadata": {},
   "outputs": [],
   "source": [
    "## Extract those elements which are not missing values.\n",
    "heights[!is.na(heights)]\n",
    "\n",
    "## Returns the object with incomplete cases removed.\n",
    "#The returned object is an atomic vector of type `\"numeric\"` (or #`\"double\"`).\n",
    "na.omit(heights)\n",
    "\n",
    "## Extract those elements which are complete cases.\n",
    "#The returned object is an atomic vector of type `\"numeric\"` (or #`\"double\"`).\n",
    "heights[complete.cases(heights)]"
   ]
  },
  {
   "cell_type": "markdown",
   "id": "f66750df-faa8-4ee2-9261-77bc6b5185bf",
   "metadata": {},
   "source": [
    "### Challenge\n",
    "1. Using this vector of heights in inches, create a new vector, `heights_no_na`, with the `NAs` removed:\n",
    "   ```\n",
    "   heights <- c(63, 69, 60, 65, NA, 68, 61, 70, 61, 59, 64, 69, 63, 63, NA, 72, 65, 64, 70, 63, 65)\n",
    "   ```\n",
    "3. Use the function `median()` to calculate the median of the heights vector.\n",
    "4. Use R to figure out how many people in the set are taller than 67 inches."
   ]
  },
  {
   "cell_type": "markdown",
   "id": "784acde2-1628-49e8-a806-aa95bfa2b366",
   "metadata": {},
   "source": [
    "# `for` and `if`\n",
    "In R, `for` and `if` do not need an indent. Instead, you can use `{}` to use `for` and `if`. Here are simple examples:"
   ]
  },
  {
   "cell_type": "code",
   "execution_count": null,
   "id": "152d09f2-ff4c-4526-989f-0c2490891d32",
   "metadata": {
    "scrolled": true
   },
   "outputs": [],
   "source": [
    "# Create a for loop I\n",
    "for (i in 1:10) {\n",
    "    print(i)\n",
    "}"
   ]
  },
  {
   "cell_type": "code",
   "execution_count": null,
   "id": "ea91bd7e-d135-4701-83f4-48a8d1b5e36c",
   "metadata": {},
   "outputs": [],
   "source": [
    "# Create a for loop II\n",
    "for (i in 1:10) { print(i) }"
   ]
  },
  {
   "cell_type": "code",
   "execution_count": null,
   "id": "5c784734-ee29-4444-a181-eec83f0eac4f",
   "metadata": {},
   "outputs": [],
   "source": [
    "# Create a for loop III (should be one linear)\n",
    "for (i in 1:10) print(i)"
   ]
  },
  {
   "cell_type": "code",
   "execution_count": null,
   "id": "55438d4c-366d-484a-b0b4-0b11886484b0",
   "metadata": {},
   "outputs": [],
   "source": [
    "i <- 10\n",
    "\n",
    "# Create an if statement\n",
    "if (i %% 2 == 0) {\n",
    "    print(\"10 is even\")\n",
    "}"
   ]
  },
  {
   "cell_type": "code",
   "execution_count": null,
   "id": "329212bc-4153-4a0d-af43-faaff48fa5e2",
   "metadata": {},
   "outputs": [],
   "source": [
    "i <- 10\n",
    "\n",
    "# Create an if statement\n",
    "if (i %% 2 == 0) { print(paste(i, \"is even\")) }"
   ]
  },
  {
   "cell_type": "code",
   "execution_count": null,
   "id": "583d5571-e976-4a71-aa7a-60fc3518ae88",
   "metadata": {},
   "outputs": [],
   "source": [
    "i <- 9\n",
    "\n",
    "# Create an if statement\n",
    "if (i %% 2 != 0) print(paste(i, \"is odd\"))"
   ]
  },
  {
   "cell_type": "code",
   "execution_count": null,
   "id": "d6078d4d-e3eb-4c54-92a9-f2e17ee2c748",
   "metadata": {},
   "outputs": [],
   "source": [
    "# Slightly complicated example using for and if\n",
    "## Create a vector of numbers\n",
    "numbers <- c(1, 2, 3, 4, 5)\n",
    "\n",
    "## Create a for loop\n",
    "for (i in 1:length(numbers)) {\n",
    "  if (numbers[i] %% 2 == 0) {\n",
    "    print(paste(numbers[i], \"is even\"))\n",
    "  } else {\n",
    "    print(paste(numbers[i], \"is odd\"))\n",
    "  }\n",
    "}"
   ]
  }
 ],
 "metadata": {
  "kernelspec": {
   "display_name": "R",
   "language": "R",
   "name": "ir"
  },
  "language_info": {
   "codemirror_mode": "r",
   "file_extension": ".r",
   "mimetype": "text/x-r-source",
   "name": "R",
   "pygments_lexer": "r",
   "version": "4.3.2"
  }
 },
 "nbformat": 4,
 "nbformat_minor": 5
}
