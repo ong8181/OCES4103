{
 "cells": [
  {
   "cell_type": "raw",
   "id": "fc8dbcb6",
   "metadata": {},
   "source": [
    "---\n",
    "title: eDNA data analysis\n",
    "output: html_document\n",
    "---"
   ]
  },
  {
   "cell_type": "markdown",
   "id": "3c8580b0",
   "metadata": {},
   "source": [
    "Github repository is here: <https://github.com/ong8181/OCES4103>\n",
    "\n",
    "# Visualization of high dimensional data: Barplots, PCA and others\n",
    "\n",
    "## Reference and datasets\n",
    "\n",
    "-   `vegan` CRAN page (<https://cran.r-project.org/web/packages/vegan/index.html>)\n",
    "-   `vegan` manual (<https://cran.r-project.org/web/packages/vegan/vegan.pdf>)\n",
    "-   `ggplot2` (<https://ggplot2.tidyverse.org/>)\n",
    "\n",
    "# Contents\n",
    "\n",
    "1.  Barplots for community composition data\n",
    "2.  Principal Component Analysis (PCA) with `iris`\n",
    "3.  Principal Component Analysis (PCA) with higher dimensional data\n",
    "4.  MDS (PCoA) and NMDS\n",
    "\n",
    "# 1. Barplots for community composition data\n",
    "\n",
    "Barplots are one of the simplest and common plots to visualize a high-dimensional data. In this section, we will use eDNA data from Ushio et al. (2023) *eLife* to do some exercises to visualize eDNA-based fish community composition data.\n",
    "\n",
    "## Brief background of the data\n",
    "\n",
    "In Ushio et al. (2023) *eLife*, water samples were collected twice a month from August 2017 to August 2019 in Chiba Prefecture, Japan. Then, DNA was extracted from water samples, and fish DNA in the samples were analyzed. We have made all data public at [Github](https://github.com/ong8181/eDNA-BosoFish-network) (MIT license; anyone can reanalyze it). The graphical abstract of the study is below:\\\n",
    "<img src=\"img/Ushio2023eLife_graphycal_abst.png\" width=\"700\"/>\n",
    "\n",
    "I edited the data, and you can first use [this CSV file](https://github.com/ong8181/OCES4103/blob/main/data/eDNA_copy_site_top10.csv). In the CSV file, the first four columns indicate the study sites where we collected water samples (i.e., site name, date, latitude, and longitude). The other columns indicate IDs of 50 most dominant fish species, and each value indicate fish DNA copies / ml seawater (copies = an index of fish DNA concentration). If you are interested in fish taxa and study site information, you can check the [taxa data](https://github.com/ong8181/eDNA-BosoFish-network/blob/main/data/tax_sheet.csv) and [study site data](https://github.com/ong8181/eDNA-BosoFish-network/blob/main/data/sample_sheet.csv) in [another Github repository](https://github.com/ong8181/eDNA-BosoFish-network/).\n",
    "\n",
    "(Note: the eDNA method used in the study is slightly different from that we are using in the eDNA project. The study \"estimated\" the eDNA concentration (= xxxx eDNA copies/ml seawater). On the other hand, our eDNA project data does NOT provide eDNA concentration data)\n",
    "\n",
    "First, let's load the data into your R environment."
   ]
  },
  {
   "cell_type": "code",
   "execution_count": null,
   "id": "b8cb8852",
   "metadata": {},
   "outputs": [],
   "source": [
    "# Load data\n",
    "d_top10 <- read.csv(\"data/eDNA_copy_site_top10.csv\", row.names = \"id\")\n",
    "\n",
    "# Check data\n",
    "dim(d_top10)\n",
    "head(d_top10)"
   ]
  },
  {
   "cell_type": "markdown",
   "id": "20df4ddd",
   "metadata": {},
   "source": [
    "Barplots can be created as follows:\n",
    "\n",
    "Let's create simple barplots using the eDNA concentration information."
   ]
  },
  {
   "cell_type": "code",
   "execution_count": null,
   "id": "ab160c7b",
   "metadata": {
    "fig.height": 8,
    "fig.width": 10
   },
   "outputs": [],
   "source": [
    "# Transpose the data and convert the data.type to \"matrix\"\n",
    "d_bar <- t(as.matrix(d_top10[,5:15]))\n",
    "\n",
    "# Generate barplots v1\n",
    "barplot(d_bar)"
   ]
  },
  {
   "cell_type": "code",
   "execution_count": null,
   "id": "7a26dbb4",
   "metadata": {
    "fig.height": 8,
    "fig.width": 10
   },
   "outputs": [],
   "source": [
    "# Add rownames information\n",
    "colnames(d_bar) <- d_top10$site_name\n",
    "\n",
    "# Generate barplots v2\n",
    "barplot(d_bar,\n",
    "        col = c(1:11), xlim = c(0,19),\n",
    "        legend.text = rownames(d_bar),\n",
    "        xlab = \"Site\", ylab = \"Fish eDNA concentration (copies / ml)\",\n",
    "        args.legend=list(x = 19, y = 80)\n",
    "    )"
   ]
  },
  {
   "cell_type": "markdown",
   "id": "fba8e65f",
   "metadata": {},
   "source": [
    "If we want to focus on the community composition (\"%\" data), we can use the following code:"
   ]
  },
  {
   "cell_type": "code",
   "execution_count": null,
   "id": "dfc658bd",
   "metadata": {
    "fig.height": 10,
    "fig.width": 18
   },
   "outputs": [],
   "source": [
    "# Calculate percentage data (\"relative abundance\", or \"community composition\")\n",
    "## You can try apply() function\n",
    "d_comp <- apply(d_bar, 2, function(x) x/sum(x))\n",
    "\n",
    "## Or you can manually calculate the percentage data using a \"for\" loop\n",
    "## Calculate the total eDNA copy/ml seawater\n",
    "#d_sum <- colSums(d_bar)\n",
    "## Prepare d_comp object\n",
    "#d_comp <- d_bar\n",
    "## Calculate percentage using a for loop\n",
    "#for (i in 1:11) {\n",
    "#  d_comp[,i] <- d_bar[,i]/d_sum[i]\n",
    "#}\n",
    "\n",
    "# Add sample (site) information as row names\n",
    "colnames(d_comp) <- d_top10$site_name\n",
    "\n",
    "# Visualize community composition\n",
    "barplot(d_comp,\n",
    "        col = c(1:11), xlim = c(0,17),\n",
    "        legend.text = rownames(d_comp),\n",
    "        xlab = \"Site\", ylab = \"Fish eDNA composition\",\n",
    "        args.legend=list(x = 17, y = 1)\n",
    "    )\n"
   ]
  },
  {
   "cell_type": "markdown",
   "id": "33715662",
   "metadata": {},
   "source": [
    "# 2. Principal Component Analysis (PCA) with `iris`\n",
    "\n",
    "In this section, we will perform PCA with a relatively simple data, `iris` (data with only four dimensions)."
   ]
  },
  {
   "cell_type": "code",
   "execution_count": null,
   "id": "f9f3880e",
   "metadata": {},
   "outputs": [],
   "source": [
    "# Load data\n",
    "data(iris)\n",
    "head(iris)"
   ]
  },
  {
   "cell_type": "markdown",
   "id": "790af883",
   "metadata": {},
   "source": [
    "First, we will check the overall data structure."
   ]
  },
  {
   "cell_type": "code",
   "execution_count": null,
   "id": "87f8c755",
   "metadata": {},
   "outputs": [],
   "source": [
    "# Visualize overall pattern\n",
    "pairs(iris[,1:4],  # Select numeric variables only\n",
    "      col = c(\"red\", \"blue\", \"green\")[iris$Species]) # Assign color for each species"
   ]
  },
  {
   "cell_type": "markdown",
   "id": "604ab7a9",
   "metadata": {},
   "source": [
    "-   Data standardization and normalizatoin\n",
    "    -   Standardization\\\n",
    "        $x_{std} = \\frac{x - \\mu}{\\sigma}$\n",
    "    -   Normalization\\\n",
    "        $x_{norm} = \\frac{x - x_{min}}{x_{max} - x_{min}}$"
   ]
  },
  {
   "cell_type": "code",
   "execution_count": null,
   "id": "e0849a88",
   "metadata": {},
   "outputs": [],
   "source": [
    "# Standardize the data\n",
    "iris_std1 <- scale(iris$Sepal.Length)\n",
    "iris_std2 <- scale(iris$Sepal.Width)\n",
    "iris_std3 <- scale(iris$Petal.Length)\n",
    "iris_std4 <- scale(iris$Petal.Width)\n",
    "iris_std <- data.frame(Sepal.Length = iris_std1, Sepal.Width = iris_std2, Petal.Length = iris_std3, Petal.Width = iris_std4)\n",
    "\n",
    "# Or use apply() function\n",
    "#iris_std <- apply(iris[,1:4], 2, scale)\n",
    "\n",
    "# Or Normalize the data using apply() function\n",
    "#iris_std <- apply(iris[,1:4], 2, function(x) (x - min(x))/(max(x) - min(x)))\n",
    "\n",
    "# Check data\n",
    "head(iris_std)"
   ]
  },
  {
   "cell_type": "code",
   "execution_count": null,
   "id": "8a02625a",
   "metadata": {},
   "outputs": [],
   "source": [
    "# Do PCA\n",
    "iris_pca <- prcomp(iris_std)\n",
    "\n",
    "## Check results with summary() function\n",
    "summary(iris_pca)"
   ]
  },
  {
   "cell_type": "code",
   "execution_count": null,
   "id": "02feb33d",
   "metadata": {},
   "outputs": [],
   "source": [
    "# Visualize PCA\n",
    "biplot(iris_pca)"
   ]
  },
  {
   "cell_type": "code",
   "execution_count": null,
   "id": "25427938",
   "metadata": {},
   "outputs": [],
   "source": [
    "# Or use raw data to create a custom plot\n",
    "plot(iris_pca$x[,\"PC1\"],\n",
    "     iris_pca$x[,\"PC2\"],\n",
    "     pch = 21,                                     # Mark shape (you can use 1-25)\n",
    "     bg = c(\"red\", \"blue\", \"green\")[iris$Species], # Background color\n",
    "     xlab = \"PC1\", ylab = \"PC2\")"
   ]
  },
  {
   "cell_type": "code",
   "execution_count": null,
   "id": "d70e31e2",
   "metadata": {},
   "outputs": [],
   "source": [
    "# Check loading score of each variable\n",
    "iris_pca"
   ]
  },
  {
   "cell_type": "markdown",
   "id": "d501b28f",
   "metadata": {},
   "source": [
    "Interpretation is that \"Sepal.Length\" contributed `0.52106591`, `0.37741762`, `-0.71956635`, and `-0.26128628` to PC1, PC2, PC3, and PC4, respectively. \"Sepal.Width\" contributed `-0.26934744`, `0.92329566`, `0.24438178`, and `0.12350962` to PC1, PC2, PC3, and PC4, respectively."
   ]
  },
  {
   "cell_type": "code",
   "execution_count": null,
   "id": "4da27a4f",
   "metadata": {},
   "outputs": [],
   "source": [
    "# Perform standardization within prcomp() function\n",
    "iris_pca2 <- prcomp(iris[,1:4], scale = TRUE)\n",
    "\n",
    "# Summary\n",
    "summary(iris_pca2)"
   ]
  },
  {
   "cell_type": "code",
   "execution_count": null,
   "id": "2435dfbf",
   "metadata": {},
   "outputs": [],
   "source": [
    "# Visualize\n",
    "biplot(iris_pca2)"
   ]
  },
  {
   "cell_type": "markdown",
   "id": "14334bc0",
   "metadata": {},
   "source": [
    "# 3. Principal Component Analysis (PCA) with higher dimensional data\n",
    "\n",
    "Then, let's use larger data and do PCA. As for high dimensional data, let's use fish monitoring data from Ushio et al. (2023) *eLife*.\n",
    "\n",
    "First, we will load the data to R (if you have not done this above)."
   ]
  },
  {
   "cell_type": "code",
   "execution_count": null,
   "id": "fdaa6087",
   "metadata": {},
   "outputs": [],
   "source": [
    "# Load data\n",
    "d = read.csv(\"data/eDNA_copy_site_top.csv\", row.names = \"id\")\n",
    "head(d)"
   ]
  },
  {
   "cell_type": "markdown",
   "id": "196c9e37",
   "metadata": {},
   "source": [
    "## Do fish community compositions cluster depending on the study sites?\n",
    "\n",
    "Next, we will briefly check whether the fish community compositions depend on the study sites. PCA (or other dimension reduction techniques) is useful to (intuitively) answer this question."
   ]
  },
  {
   "cell_type": "code",
   "execution_count": null,
   "id": "81e4072a",
   "metadata": {},
   "outputs": [],
   "source": [
    "# Select fish data only\n",
    "d_fish = d[, 5:54]\n",
    "\n",
    "# Calculate eDNA community composition instead of performing standardization\n",
    "fish_comp <- t(apply(d_fish, 1, function(x) x/sum(x)))\n",
    "\n",
    "# Do PCA\n",
    "fish_pca = prcomp(fish_comp)\n",
    "\n",
    "# Check content\n",
    "summary(fish_pca)"
   ]
  },
  {
   "cell_type": "markdown",
   "id": "0d96d754",
   "metadata": {},
   "source": [
    "### Visualize the pattern\n",
    "\n",
    "Then, let's plot only the first two PC axes. ([`cols4all` package](https://github.com/mtennekes/cols4all) is a great package to choose \"cool\" colors for visualization)"
   ]
  },
  {
   "cell_type": "code",
   "execution_count": null,
   "id": "17d6ea79",
   "metadata": {},
   "outputs": [],
   "source": [
    "# Load color palette\n",
    "#install.packages(\"cols4all\", dependencies = TRUE)\n",
    "#library(cols4all)\n",
    "\n",
    "# Color palette\n",
    "#c4a(\"brewer.paired\", 11)\n",
    "\n",
    "# Color palette\n",
    "color_code <- c(\"#A6CEE3\", \"#1F78B4\", \"#B2DF8A\", \"#33A02C\",\n",
    "                \"#FB9A99\", \"#E31A1C\", \"#FDBF6F\", \"#FF7F00\",\n",
    "                \"#CAB2D6\", \"#6A3D9A\", \"#FFFF99\")"
   ]
  },
  {
   "cell_type": "code",
   "execution_count": null,
   "id": "fa99f6e3",
   "metadata": {
    "fig.height": 6,
    "fig.width": 7
   },
   "outputs": [],
   "source": [
    "# Use raw data to visualize the pattern\n",
    "plot(fish_pca$x[,\"PC1\"],\n",
    "     fish_pca$x[,\"PC2\"],\n",
    "     pch = 21,                                   # Mark shape (you can use 1-25)\n",
    "     bg = color_code[factor(d$site_name)], # Background color\n",
    "     xlab = \"PC1\", ylab = \"PC2\")\n",
    "\n",
    "# Add a legend for the colors\n",
    "legend(\"bottomright\",                        # Position of the legend\n",
    "       legend = levels(factor(d$site_name)), # Labels for the legend\n",
    "       pch = 21,                             # Mark shape (you can use 1-25)\n",
    "       pt.bg = color_code)                   # Background colors for the legend"
   ]
  },
  {
   "cell_type": "markdown",
   "id": "f7098fe8",
   "metadata": {},
   "source": [
    "### Creating figures using `ggplot2` package\n",
    "\n",
    "You can create a better plot if you use `ggplot2` package (in [`tidyverse` package](https://www.tidyverse.org/))."
   ]
  },
  {
   "cell_type": "code",
   "execution_count": null,
   "id": "b485aad2",
   "metadata": {},
   "outputs": [],
   "source": [
    "# Load tidyverse\n",
    "library(tidyverse)\n",
    "\n",
    "# Create a dataframe for visualization\n",
    "pca_df <- data.frame(PC1 = fish_pca$x[,\"PC1\"], PC2 = fish_pca$x[,\"PC2\"], site_name = d$site_name)\n",
    "\n",
    "# Create plot\n",
    "ggplot(pca_df, aes(x = PC1, y = PC2, color = site_name)) + # Create plot space (empty)\n",
    "     geom_point() # Add scatterplot layer"
   ]
  },
  {
   "cell_type": "code",
   "execution_count": null,
   "id": "280422a8",
   "metadata": {},
   "outputs": [],
   "source": [
    "# Change color\n",
    "ggplot(pca_df, aes(x = PC1, y = PC2, color = site_name)) + # Create plot space (empty)\n",
    "     geom_point() + # Add scatterplot layer\n",
    "     scale_color_manual(values = color_code)"
   ]
  },
  {
   "cell_type": "markdown",
   "id": "48641b3c",
   "metadata": {},
   "source": [
    "# 3. NMDS\n",
    "\n",
    "Lastly, we can look at how MDS and NMDS can be implemented using the same fish data. Load `vegan` library to perform MDS and NMDS. If `vegan` is not installed, execute `install.packages(\"vegan\")`."
   ]
  },
  {
   "cell_type": "code",
   "execution_count": null,
   "id": "966eea34",
   "metadata": {},
   "outputs": [],
   "source": [
    "# Load libraries\n",
    "library(vegan)"
   ]
  },
  {
   "cell_type": "markdown",
   "id": "a551821d",
   "metadata": {},
   "source": [
    "### NMDS"
   ]
  },
  {
   "cell_type": "code",
   "execution_count": null,
   "id": "4697594c",
   "metadata": {},
   "outputs": [],
   "source": [
    "# Set random seed for reproduction\n",
    "set.seed(1234)\n",
    "\n",
    "# NMDS\n",
    "fish_nmds = metaMDS(fish_comp, distance = \"bray\")"
   ]
  },
  {
   "cell_type": "code",
   "execution_count": null,
   "id": "191e883c",
   "metadata": {},
   "outputs": [],
   "source": [
    "# Simple visualization\n",
    "plot(fish_nmds)"
   ]
  },
  {
   "cell_type": "code",
   "execution_count": null,
   "id": "ea86ed2d",
   "metadata": {},
   "outputs": [],
   "source": [
    "# Get NMDS scores\n",
    "#scores(fish_nmds)$sites"
   ]
  },
  {
   "cell_type": "code",
   "execution_count": null,
   "id": "4c012db3",
   "metadata": {
    "fig.height": 6,
    "fig.width": 7
   },
   "outputs": [],
   "source": [
    "# Visualize NMDS using basic functions\n",
    "# Create a dataframe for visualization\n",
    "nmds_df <- data.frame(Axis1 = scores(fish_nmds)$sites[,1], Axis2 = scores(fish_nmds)$sites[,2], site_name = d$site_name)\n",
    "\n",
    "# Create plot\n",
    "plot(nmds_df$Axis1,\n",
    "     nmds_df$Axis2,\n",
    "     xlim = c(-1.6, 2),\n",
    "     pch = 21,                                   # Mark shape (you can use 1-25)\n",
    "     bg = color_code[factor(nmds_df$site_name)], # Background color\n",
    "     xlab = \"NMDS Axis 1\", ylab = \"NMDS Axis 2\")\n",
    "\n",
    "# Add a legend for the colors\n",
    "legend(\"bottomright\",                        # Position of the legend\n",
    "       legend = levels(factor(nmds_df$site_name)), # Labels for the legend\n",
    "       pch = 21,                             # Mark shape (you can use 1-25)\n",
    "       pt.bg = color_code)                   # Background colors for the legend"
   ]
  },
  {
   "cell_type": "code",
   "execution_count": null,
   "id": "f9232005",
   "metadata": {},
   "outputs": [],
   "source": [
    "# Visualize NMDS using ggplot2\n",
    "ggplot(nmds_df, aes(x = Axis1, y = Axis2, color = site_name)) + # Create plot space (empty)\n",
    "     geom_point() +                         # Add scatterplot layer\n",
    "     scale_color_manual(values = color_code)"
   ]
  },
  {
   "cell_type": "markdown",
   "id": "8630f4b0",
   "metadata": {},
   "source": [
    "# Optional contents\n",
    "\n",
    "#### `ggplot2` method to draw stacked barplots"
   ]
  },
  {
   "cell_type": "code",
   "execution_count": null,
   "id": "d2d56ae2",
   "metadata": {},
   "outputs": [],
   "source": [
    "# Load data\n",
    "d_top10 <- read.csv(\"data/eDNA_copy_site_top10.csv\", row.names = \"id\")\n",
    "\n",
    "# Calculate percentage data (\"relative abundance\", or \"community composition\")\n",
    "d_bar <- d_top10[,5:15]\n",
    "d_comp2 <- as.data.frame(t(apply(d_bar, 1, function(x) x/sum(x))))\n",
    "\n",
    "# Add sample (site) information as row names\n",
    "d_comp2$site_name <- d_top10$site_name\n",
    "\n",
    "# Convert to a longer data format\n",
    "d_comp_long <- tidyr::pivot_longer(d_comp2, cols = -site_name,\n",
    "                                   names_to = \"fish_species\",\n",
    "                                   values_to = \"relative_abundance\")\n",
    "\n",
    "# Generate ggplot2 stacked barplot\n",
    "ggplot(d_comp_long, aes(y = relative_abundance, x = site_name, fill = fish_species)) +\n",
    "  geom_bar(stat = \"identity\") +\n",
    "  scale_fill_manual(values = color_code) +\n",
    "  theme(axis.text.x = element_text(angle = 90, vjust = 0.5, hjust = 1))"
   ]
  },
  {
   "cell_type": "markdown",
   "id": "1b4e8119",
   "metadata": {},
   "source": [
    "#### MDS (or PCoA)\n",
    "\n",
    "MDS is another type of multi-dimencional scaling. You can check how it is different from PCA or NMDS in this video (<https://youtu.be/GEn-_dAyYME?si=ci5WMkR2iXWn68Sl>). Here I provode R code to perform MDS."
   ]
  },
  {
   "cell_type": "code",
   "execution_count": null,
   "id": "bcff10d3",
   "metadata": {},
   "outputs": [],
   "source": [
    "# Load data\n",
    "d = read.csv(\"data/eDNA_copy_site_top.csv\", row.names = \"id\")\n",
    "\n",
    "# Select fish data only\n",
    "d_fish = d[, 5:54]\n",
    "\n",
    "# Calculate eDNA community composition instead of performing standardization\n",
    "fish_comp <- t(apply(d_fish, 1, function(x) x/sum(x)))\n",
    "\n",
    "# Calculate distance (or dissimilar) matrix\n",
    "fish_bray <- vegdist(fish_comp, method = \"bray\")\n",
    "\n",
    "# MDS\n",
    "fish_pcoa <- cmdscale(fish_bray, eig = TRUE) # eig = T to get eigenvalues. If you do not need them, you can just remove it.\n",
    "#fish_pcoa"
   ]
  },
  {
   "cell_type": "code",
   "execution_count": null,
   "id": "bc31cf28",
   "metadata": {},
   "outputs": [],
   "source": [
    "# Visualize PCoA\n",
    "# Create a dataframe for visualization\n",
    "pcoa_df <- data.frame(Axis1 = fish_pcoa$points[,1], Axis2 = fish_pcoa$points[,2], site_name = d$site_name)\n",
    "\n",
    "# Create plot\n",
    "ggplot(pcoa_df, aes(x = Axis1, y = Axis2, color = site_name)) + # Create plot space (empty)\n",
    "     geom_point() +                         # Add scatterplot layer\n",
    "     scale_color_manual(values = color_code)"
   ]
  }
 ],
 "metadata": {
  "jupytext": {
   "cell_metadata_filter": "fig.height,fig.width,-all",
   "main_language": "R",
   "notebook_metadata_filter": "-all"
  }
 },
 "nbformat": 4,
 "nbformat_minor": 5
}
