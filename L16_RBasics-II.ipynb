{
 "cells": [
  {
   "cell_type": "markdown",
   "id": "ee91071b-5822-4cec-ad01-909aa3cef266",
   "metadata": {},
   "source": [
    "Github repository is here: https://github.com/ong8181/DASC3240"
   ]
  },
  {
   "cell_type": "markdown",
   "id": "420b7e69-b2a3-4f11-b3de-c25b9de4eb68",
   "metadata": {},
   "source": [
    "# R Basics – Starting with data\n",
    "The contents basically follow this website (https://datacarpentry.org/R-ecology-lesson/02-starting-with-data.html), but some contents are omitted/modified so that they fit OCES 3240."
   ]
  },
  {
   "attachments": {},
   "cell_type": "markdown",
   "id": "8baca36a-0be5-439a-89a7-d2242d0639ce",
   "metadata": {},
   "source": [
    "## References\n",
    "- Data Analysis and Visualization in R for Ecologists: https://datacarpentry.org/R-ecology-lesson\n",
    "- Starting with data: https://datacarpentry.org/R-ecology-lesson/02-starting-with-data.html\n",
    "- Zenodo archive: http://doi.org/10.5281/zenodo.3264888\n",
    "- License (CC-BY4.0): https://github.com/datacarpentry/R-ecology-lesson?tab=License-1-ov-file\n"
   ]
  },
  {
   "cell_type": "markdown",
   "id": "cc854fca-9214-4adb-b1d2-f6fe7967ae38",
   "metadata": {},
   "source": [
    "# Contents\n",
    "1. Loading the survey data\n",
    "2. What are data frames?\n",
    "3. Indexing and subsetting data frames\n",
    "4. Factors\n",
    "5. Formatting date"
   ]
  },
  {
   "cell_type": "markdown",
   "id": "d23a7be2-1e80-4557-a149-2310c1386b15",
   "metadata": {},
   "source": [
    "# 1. Loading the survey data\n",
    "We are investigating the animal species diversity and weights found within plots at our study site. The dataset is stored as a comma separated value (CSV) file. Each row holds information for a single animal, and the columns represent:"
   ]
  },
  {
   "cell_type": "markdown",
   "id": "7d4b361b-bdae-478b-ade1-800477f5f142",
   "metadata": {
    "jp-MarkdownHeadingCollapsed": true
   },
   "source": [
    "| Column          | Description                                  |\n",
    "|-----------------|----------------------------------------------|\n",
    "| record_id       | Unique id for the observation                |\n",
    "| month           | month of observation                         |\n",
    "| day             | day of observation                           |\n",
    "| year            | year of observation                          |\n",
    "| plot_id         | ID of a particular experimental plot of land |\n",
    "| species_id      | 2-letter code                                |\n",
    "| sex             | sex of animal (“M”, “F”)                     |\n",
    "| hindfoot_length | length of the hindfoot in mm                 |\n",
    "| weight          | weight of the animal in grams                |\n",
    "| genus           | genus of animal                              |\n",
    "| species         | species of animal                            |\n",
    "| taxon           | e.g. Rodent, Reptile, Bird, Rabbit           |\n",
    "| plot_type       | type of plot                                 |"
   ]
  },
  {
   "cell_type": "markdown",
   "id": "2a2c6cbc-0ea7-4f22-9639-f58c2032a119",
   "metadata": {},
   "source": [
    "### Downloading the data\n",
    "We created the folder that will store the downloaded data (e.g., `data`) in your working folder. We are going to use the R function `download.file()` to download the CSV file that contains the survey data from [Figshare](https://figshare.com/), and we will use `read_csv()` to load the content of the CSV file into R.\n",
    "\n",
    "Inside the `download.file` command, the first entry is a character string with the source URL (`“https://ndownloader.figshare.com/files/2292169”`). This source URL downloads a CSV file from figshare. The text after the comma (`“data/portal_data_joined.csv”`) is the destination of the file on your local machine. You’ll need to have a folder on your machine called `“data”` where you’ll download the file. So this command downloads a file from Figshare, names it `“portal_data_joined.csv”` and adds it to a preexisting folder named `“data”`."
   ]
  },
  {
   "cell_type": "code",
   "execution_count": null,
   "id": "f9524514-3abe-4cb0-bbb8-3ad73069c15e",
   "metadata": {},
   "outputs": [],
   "source": [
    "# Create your data folder\n",
    "dir.create(\"data\")\n",
    "\n",
    "# Download the data file\n",
    "download.file(url = \"https://ndownloader.figshare.com/files/2292169\",\n",
    "              destfile = \"data/portal_data_joined.csv\")"
   ]
  },
  {
   "cell_type": "markdown",
   "id": "5d9bf4c4-360f-4aa2-92e3-8bd5649cc9d2",
   "metadata": {},
   "source": [
    "### Reading the data into R\n",
    "The file has now been downloaded to the destination you specified, but R has not yet loaded the data from the file into memory. To do this, we can use the `read_csv()` function from the tidyverse package.\n",
    "\n",
    "Packages in R are basically sets of additional functions that let you do more stuff. The functions we’ve been using so far, like `round()`, `sqrt()`, or `c()` come built into R. Packages give you access to additional functions beyond base R. A similar function to `read_csv()` from the \"tidyverse\" package is `read.csv()` from base R. We don’t have time to cover their differences but notice that the exact spelling determines which function is used. Before you use a package for the first time you need to install it on your machine, and then you should import it in every subsequent R session when you need it.\n",
    "\n",
    "To install the tidyverse package, we can type `install.packages(\"tidyverse\")` straight into the console. Then, to load the package type:"
   ]
  },
  {
   "cell_type": "code",
   "execution_count": null,
   "id": "1141b864-fb62-4426-8797-c8a9466d956a",
   "metadata": {
    "scrolled": true
   },
   "outputs": [],
   "source": [
    "## load the tidyverse packages, incl. dplyr\n",
    "library(tidyverse)"
   ]
  },
  {
   "cell_type": "markdown",
   "id": "05c7f875-19e0-40a3-b87d-b28ad48b7a77",
   "metadata": {},
   "source": [
    "Now we can use the functions from the tidyverse package. Let’s use `read_csv()` to read the data into a data frame (we will learn more about data frames later):"
   ]
  },
  {
   "cell_type": "code",
   "execution_count": null,
   "id": "8b545cdc-2a01-437e-b187-772d9b1a3034",
   "metadata": {},
   "outputs": [],
   "source": [
    "surveys <- read_csv(\"data/portal_data_joined.csv\")"
   ]
  },
  {
   "cell_type": "markdown",
   "id": "190d6d5a-a14c-4119-833d-dc3f2da27fbb",
   "metadata": {},
   "source": [
    "When you execute `read_csv` on a data file, it looks through the first 1000 rows of each column and guesses its data type. For example, in this dataset, `read_csv()` reads weight as `col_double` (a numeric data type), and species as `col_character`. You have the option to specify the data type for a column manually by using the `col_types` argument in `read_csv`.\n",
    "\n",
    "(As we saw in the Python hands-on, data type is very important for data analysis and visualization)\n",
    "\n",
    "_\\[**NOTE**\\] You should develop the habits of looking at and recording some parameters of your csv files. For instance, the character encoding, control characters used for line ending, date format (if the date is not split into three variables), and the presence of unexpected newlines are important characteristics of your data files. Those parameters will ease up the import step of your data in R._"
   ]
  },
  {
   "cell_type": "markdown",
   "id": "695e4e3b-21c4-4ca3-bafb-a81fdf52527a",
   "metadata": {},
   "source": [
    "We can see the contents of the first few lines of the data by typing its name: `surveys`. By default, this will show you as many rows and columns of the data as fit on your screen. If you wanted the first 50 rows, you could type `print(surveys, n = 50)`.\n",
    "\n",
    "We can also extract the first few lines of this data using the function `head()`:"
   ]
  },
  {
   "cell_type": "code",
   "execution_count": null,
   "id": "3794ad09-0309-414e-9bc6-5f4e2c211b65",
   "metadata": {
    "jp-MarkdownHeadingCollapsed": true
   },
   "outputs": [],
   "source": [
    "head(surveys)\n",
    "# or tail(surveys) if you want to see the last few lines of the data"
   ]
  },
  {
   "cell_type": "markdown",
   "id": "5d356129-9ef6-403d-806f-ab4965416c66",
   "metadata": {},
   "source": [
    "# 2. What are data frames?\n",
    "When we loaded the data into R, it got stored as an object of class `tibble`, which is a special kind of data frame (the difference is not important for our purposes, but you can learn more about tibbles [here](https://tibble.tidyverse.org/)). Data frames are the _de facto_ data structure for most tabular data, and what we use for statistics and plotting. Data frames can be created by hand, but most commonly they are generated by functions like `read_csv()`; in other words, when importing spreadsheets from your hard drive or the web.\n",
    "\n",
    "A data frame is the representation of data in the format of a table where the columns are vectors that all have the same length. Because columns are vectors, each column must contain a single type of data (e.g., characters, integers, factors). For example, here is a figure depicting a data frame comprising a numeric, a character, and a logical vector."
   ]
  },
  {
   "cell_type": "markdown",
   "id": "19ead8d1-e6e5-4dce-90cb-3718db7c58ef",
   "metadata": {},
   "source": [
    "![](https://datacarpentry.org/R-ecology-lesson/fig/data-frame.svg)"
   ]
  },
  {
   "cell_type": "markdown",
   "id": "79cb047c-3eb9-463d-9a45-6c4ff36b847b",
   "metadata": {},
   "source": [
    "We can see this also when inspecting the structure of a data frame with the function `str()`:"
   ]
  },
  {
   "cell_type": "code",
   "execution_count": null,
   "id": "a39702fb-6d6a-4677-86ce-89926b898c01",
   "metadata": {},
   "outputs": [],
   "source": [
    "str(surveys)"
   ]
  },
  {
   "cell_type": "markdown",
   "id": "01b1899f-f366-464b-b02d-d60681b62991",
   "metadata": {},
   "source": [
    "# 3. Inspecting data frames\n",
    "We already saw how the functions `head()` and `str()` can be useful to check the content and the structure of a data frame. Here is a non-exhaustive list of functions to get a sense of the content/structure of the data. Let’s try them out!\n",
    "\n",
    "- Size:\n",
    "    - `dim(surveys)` - returns a vector with the number of rows in the first element, and the number of columns as the second element (the dimensions of the object)\n",
    "    - `nrow(surveys)` - returns the number of rows\n",
    "    - `ncol(surveys)` - returns the number of columns\n",
    "- Content:\n",
    "    - `head(surveys)` - shows the first 6 rows\n",
    "    - `tail(surveys)` - shows the last 6 rows\n",
    "- Names:\n",
    "    - `names(surveys)` - returns the column names (synonym of `colnames()` for `data.frame` objects)\n",
    "    - `rownames(surveys)` - returns the row names\n",
    "- Summary:\n",
    "    - `str(surveys)` - structure of the object and information about the class, length and content of each column\n",
    "    - `summary(surveys)` - summary statistics for each column\n",
    "\n",
    "\n",
    "Note: most of these functions are “generic”, they can be used on other types of objects besides `data.frame`."
   ]
  },
  {
   "cell_type": "markdown",
   "id": "2b1c7b5f-3ffb-4b02-b138-923bef68736f",
   "metadata": {},
   "source": [
    "### Challenge\n",
    "Based on the output of `str(surveys)`, can you answer the following questions?\n",
    "- What is the class of the object surveys?\n",
    "- How many rows and how many columns are in this object?"
   ]
  },
  {
   "cell_type": "markdown",
   "id": "0c3d3fdf-18bc-4540-ac41-38ec6fdddd90",
   "metadata": {},
   "source": [
    "# 3. Indexing and subsetting data frames\n",
    "Our survey data frame has rows and columns (it has 2 dimensions), if we want to extract some specific data from it, we need to specify the “coordinates” we want from it. Row numbers come first, followed by column numbers. However, note that different ways of specifying these coordinates lead to results with different classes.\n",
    "\n",
    "<span style=\"color:darkred\">Again, be careful of the difference in the indexing methods between R and Python</span>."
   ]
  },
  {
   "cell_type": "code",
   "execution_count": null,
   "id": "8f666efc-6409-470d-8c37-a2a6ec3999f8",
   "metadata": {},
   "outputs": [],
   "source": [
    "# We can extract specific values by specifying row and column indices\n",
    "# in the format: \n",
    "# data_frame[row_index, column_index]\n",
    "# For instance, to extract the first row and column from surveys:\n",
    "surveys[1, 1]\n",
    "\n",
    "# First row, sixth column:\n",
    "surveys[1, 6]   \n",
    "\n",
    "# We can also use shortcuts to select a number of rows or columns at once\n",
    "# To select all columns, leave the column index blank\n",
    "# For instance, to select all columns for the first row:\n",
    "surveys[1, ]\n",
    "\n",
    "# The same shortcut works for rows --\n",
    "# To select the first column across all rows:\n",
    "surveys[, 1]\n",
    "\n",
    "# An even shorter way to select first column across all rows:\n",
    "surveys[1] # No comma! \n",
    "\n",
    "# To select multiple rows or columns, use vectors!\n",
    "# To select the first three rows of the 5th and 6th column\n",
    "surveys[c(1, 2, 3), c(5, 6)] \n",
    "\n",
    "# We can use the : operator to create those vectors for us:\n",
    "surveys[1:3, 5:6] \n",
    "\n",
    "# This is equivalent to head_surveys <- head(surveys)\n",
    "head_surveys <- surveys[1:6, ]\n",
    "\n",
    "# As we've seen, when working with tibbles \n",
    "# subsetting with single square brackets (\"[]\") always returns a data frame.\n",
    "# If you want a vector, use double square brackets (\"[[]]\")\n",
    "\n",
    "# For instance, to get the first column as a vector:\n",
    "surveys[[1]]\n",
    "\n",
    "# To get the first value in our data frame:\n",
    "surveys[[1, 1]]"
   ]
  },
  {
   "cell_type": "markdown",
   "id": "03926e88-df3c-45c4-9ecb-c05478b14f25",
   "metadata": {},
   "source": [
    "`:` is a special function that creates numeric vectors of integers in increasing or decreasing order, test `1:10` and `10:1` for instance.\n",
    "\n",
    "You can also exclude certain indices of a data frame using the `-` sign:"
   ]
  },
  {
   "cell_type": "code",
   "execution_count": null,
   "id": "82cd1f0e-3ffd-401e-8ebe-c8de17069360",
   "metadata": {},
   "outputs": [],
   "source": [
    "surveys[, -1]                 # The whole data frame, except the first column\n",
    "surveys[-(7:nrow(surveys)), ] # Equivalent to head(surveys)"
   ]
  },
  {
   "cell_type": "markdown",
   "id": "6ef848b7-d73b-43c3-b75a-c3d42d115956",
   "metadata": {},
   "source": [
    "Data frames can be subset by calling indices (as shown previously), but also by calling their column names directly:"
   ]
  },
  {
   "cell_type": "code",
   "execution_count": null,
   "id": "a7debb9b-1226-4d5a-9d5d-bf559877126c",
   "metadata": {},
   "outputs": [],
   "source": [
    "# As before, using single brackets returns a data frame:\n",
    "surveys[\"species_id\"]\n",
    "surveys[, \"species_id\"]\n",
    "\n",
    "# Double brackets returns a vector:\n",
    "surveys[[\"species_id\"]]\n",
    "\n",
    "# We can also use the $ operator with column names instead of double brackets\n",
    "# This returns a vector:\n",
    "surveys$species_id"
   ]
  },
  {
   "cell_type": "markdown",
   "id": "7170f5e5-3cb5-408c-9630-ab1b4e1b7b08",
   "metadata": {},
   "source": [
    "### Challenge\n",
    "1. Create a data.frame (`surveys_200`) containing only the data in row 200 of the surveys dataset.\n",
    "2. Notice how `nrow()` gave you the number of rows in a data.frame?\n",
    "    - Use that number to pull out just that last row from the surveys dataset.\n",
    "    - Compare that with what you see as the last row using `tail()` to make sure it’s meeting expectations.\n",
    "3. Use `nrow()` to extract the row that is in the middle of the data frame. Store the content of this row in an object named `surveys_middle`."
   ]
  },
  {
   "cell_type": "markdown",
   "id": "3b37aec1-ab16-4e9d-ab24-41ca78d79c4f",
   "metadata": {},
   "source": [
    "# 4. Factors\n",
    "When we did `str(surveys)`, we saw that several of the columns consist of integers. The columns genus, species, sex, plot_type, … however, are of the class **character**. Arguably, these columns contain **categorical** data, that is, they can only take on a limited number of values.\n",
    "\n",
    "R has a special class for working with categorical data, called **factor**. Factors are very useful and actually contribute to making R particularly well suited to working with data. So we are going to spend a little time introducing them.\n",
    "\n",
    "Once created, factors can only contain a pre-defined set of values, known as **levels**. Factors are stored as integers associated with labels and they can be ordered or unordered. **While factors look (and often behave) like character vectors, they are actually treated as integer vectors by R**. So you need to be **very careful** when treating them as strings. If your category has the order of magnitude, intensity or else, you have to consider treating it as a factor.\n",
    "\n",
    "When importing a data frame with `read_csv()`, the columns that contain text are not automatically coerced (=converted) into the factor data type, but once we have loaded the data we can do the conversion using the `factor()` function:"
   ]
  },
  {
   "cell_type": "code",
   "execution_count": null,
   "id": "fbcd8b20-1a2a-4614-85ce-bf80ce01ee33",
   "metadata": {},
   "outputs": [],
   "source": [
    "surveys$sex <- factor(surveys$sex)\n",
    "\n",
    "# We can see that the conversion has worked by using the summary() function again.\n",
    "summary(surveys$sex)"
   ]
  },
  {
   "cell_type": "markdown",
   "id": "800d6f9a-d42d-46bc-a7f5-63f77a5b8a8b",
   "metadata": {},
   "source": [
    "By default, R always sorts levels in alphabetical order. For instance, if you have a factor with 2 levels:"
   ]
  },
  {
   "cell_type": "code",
   "execution_count": null,
   "id": "2a6a356a-93ed-48a7-bdba-ead6c03e81a4",
   "metadata": {},
   "outputs": [],
   "source": [
    "sex <- factor(c(\"male\", \"female\", \"female\", \"male\"))\n",
    "levels(sex)\n",
    "nlevels(sex)"
   ]
  },
  {
   "cell_type": "markdown",
   "id": "238ec2a3-6912-47c4-add5-bbcf16e40abf",
   "metadata": {},
   "source": [
    "Sometimes, the order of the factors does not matter, other times you might want to specify the order because it is meaningful (e.g., “low”, “medium”, “high”), it improves your visualization, or it is required by a particular type of analysis. Here, one way to reorder our levels in the sex vector would be:"
   ]
  },
  {
   "cell_type": "code",
   "execution_count": null,
   "id": "8834841b-2f8f-4d8f-86c4-3992942279e5",
   "metadata": {
    "scrolled": true
   },
   "outputs": [],
   "source": [
    "sex # current order\n",
    "sex <- factor(sex, levels = c(\"male\", \"female\"))\n",
    "sex # after re-ordering"
   ]
  },
  {
   "cell_type": "markdown",
   "id": "3cc1610b-9c2f-485b-82ce-911b5ec7322e",
   "metadata": {},
   "source": [
    "In R’s memory, these factors are represented by integers (1, 2, 3), but are more informative than integers because factors are self describing: `\"female\"`, `\"male\"` is more descriptive than `1`, `2`. Which one is `“male”`? You wouldn’t be able to tell just from the integer data. Factors, on the other hand, have this information built in. It is particularly helpful when there are many levels (like the species names in our example dataset)."
   ]
  },
  {
   "cell_type": "markdown",
   "id": "c55c3f7c-d762-48bc-a565-25e2a64f69e2",
   "metadata": {},
   "source": [
    "### Challenge\n",
    "1. Change the columns taxa and genus in the surveys data frame into a factor.\n",
    "2. Using the functions you learned before, can you find out...\n",
    "    - How many rabbits were observed?\n",
    "    - How many different genera are in the genus column?"
   ]
  },
  {
   "cell_type": "markdown",
   "id": "607aa5f2-5f20-4398-bb6e-02951b2c7447",
   "metadata": {},
   "source": [
    "## Converting factors\n",
    "If you need to convert a factor to a character vector, you use as.character(x)."
   ]
  },
  {
   "cell_type": "code",
   "execution_count": null,
   "id": "5f203f4d-c0dc-4051-938c-3a257882fec8",
   "metadata": {},
   "outputs": [],
   "source": [
    "as.character(sex)"
   ]
  },
  {
   "cell_type": "markdown",
   "id": "b2154a2d-3983-4150-994e-79977960e0dd",
   "metadata": {},
   "source": [
    "In some cases, you may have to convert factors where the levels appear as numbers (such as concentration levels or years) to a numeric vector. For instance, in one part of your analysis, the years might need to be encoded as factors (e.g., comparing average weights across years) but in another part of your analysis, they may need to be stored as numeric values (e.g., doing math operations on the years). This conversion from factor to numeric is a little trickier. The `as.numeric()` function returns the index values of the factor, not its levels, so it will result in an entirely new (and unwanted in this case) set of numbers. One method to avoid this is to convert factors to characters, and then to numbers.\n",
    "\n",
    "Another method is to use the `levels()` function. Compare:"
   ]
  },
  {
   "cell_type": "code",
   "execution_count": null,
   "id": "6ae9c057-ea21-4a64-8538-01f6f5aa0d6b",
   "metadata": {},
   "outputs": [],
   "source": [
    "year_fct <- factor(c(1990, 1983, 1977, 1998, 1990))\n",
    "as.numeric(year_fct)               # Wrong! And there is no warning...\n",
    "as.numeric(as.character(year_fct)) # Works...\n",
    "as.numeric(levels(year_fct))[year_fct]    # Works..."
   ]
  },
  {
   "cell_type": "markdown",
   "id": "7a934bbe-00a2-4e3c-8461-8298273efb56",
   "metadata": {},
   "source": [
    "Notice that in the `levels()` approach, three important steps occur:\n",
    "- We obtain all the factor levels using `levels(year_fct)`\n",
    "- We convert these levels to numeric values using `as.numeric(levels(year_fct))`\n",
    "- We then access these numeric values using the underlying integers of the vector `year_fct` inside the square brackets"
   ]
  },
  {
   "cell_type": "markdown",
   "id": "a941fde0-fd7d-4078-b424-63fa9beb69d6",
   "metadata": {},
   "source": [
    "## Renaming factors\n",
    "When your data is stored as a factor, you can use the `plot()` function to get a quick glance at the number of observations represented by each factor level. Let’s look at the number of males and females captured over the course of the experiment:"
   ]
  },
  {
   "cell_type": "code",
   "execution_count": null,
   "id": "d00534ac-040f-4e40-a920-a0b768accf52",
   "metadata": {},
   "outputs": [],
   "source": [
    "## bar plot of the number of females and males captured during the experiment:\n",
    "plot(surveys$sex)"
   ]
  },
  {
   "cell_type": "markdown",
   "id": "e124a212-62f9-4099-bc5b-56344ea9f2f5",
   "metadata": {},
   "source": [
    "However, as we saw when we used `summary(surveys$sex)`, there are about 1700 individuals for which the sex information hasn’t been recorded. To show them in the plot, we can turn the missing values into a factor level with the `addNA()` function. We will also have to give the new factor level a label. We are going to work with a copy of the sex column, so we’re not modifying the working copy of the data frame:"
   ]
  },
  {
   "cell_type": "code",
   "execution_count": null,
   "id": "08477664-0293-4f06-a9b3-ebea5684e218",
   "metadata": {},
   "outputs": [],
   "source": [
    "sex <- surveys$sex\n",
    "levels(sex)"
   ]
  },
  {
   "cell_type": "code",
   "execution_count": null,
   "id": "aa99376c-0dd4-42fa-855b-322a040de59d",
   "metadata": {},
   "outputs": [],
   "source": [
    "sex <- addNA(sex)\n",
    "levels(sex)"
   ]
  },
  {
   "cell_type": "code",
   "execution_count": null,
   "id": "fea7f78f-2c20-46e4-a5e2-9a5849cd4459",
   "metadata": {},
   "outputs": [],
   "source": [
    "head(sex, n = 30)"
   ]
  },
  {
   "cell_type": "code",
   "execution_count": null,
   "id": "357866d3-52a2-4dfd-b916-6aea8f71cfff",
   "metadata": {},
   "outputs": [],
   "source": [
    "# Or you can change the name of \"NA\" to \"undetermined\"\n",
    "levels(sex)[3] <- \"undetermined\"\n",
    "levels(sex)"
   ]
  },
  {
   "cell_type": "code",
   "execution_count": null,
   "id": "7ed535dc-6e0f-47ee-af66-777d6eac31b5",
   "metadata": {
    "scrolled": true
   },
   "outputs": [],
   "source": [
    "head(sex)"
   ]
  },
  {
   "cell_type": "code",
   "execution_count": null,
   "id": "7a537e3f-5cf6-47ef-a2c6-64071a1ff12b",
   "metadata": {
    "scrolled": true
   },
   "outputs": [],
   "source": [
    "# And then, you can plot the data\n",
    "plot(sex)"
   ]
  },
  {
   "cell_type": "markdown",
   "id": "0e483321-3667-47ab-9acb-e23e82beb53e",
   "metadata": {},
   "source": [
    "### Challenge\n",
    "1. Rename `“F”` and `“M”` to `“female”` and `“male”` respectively.\n",
    "2. Now that we have renamed the factor level to `“undetermined”`, can you recreate the barplot such that `“undetermined”` is first (before `“female”`)?"
   ]
  },
  {
   "cell_type": "markdown",
   "id": "dd930af5-6739-4bd6-b6db-2ac001ccd460",
   "metadata": {},
   "source": [
    "# 4. Formatting date\n",
    "A common issue that new (and experienced!) R users have is converting date and time information into a variable that is suitable for analyses. One way to store date information is to store each component of the date in a separate column. Using `str()`, we can confirm that our data frame does indeed have a separate column for day, month, and year, and that each of these columns contains integer values."
   ]
  },
  {
   "cell_type": "code",
   "execution_count": null,
   "id": "df2451f8-00de-4a4c-b9db-4cff09f12be2",
   "metadata": {},
   "outputs": [],
   "source": [
    "str(surveys)"
   ]
  },
  {
   "cell_type": "markdown",
   "id": "31074552-5788-42dc-8cc7-4810baf22b4a",
   "metadata": {},
   "source": [
    "We are going to use the `ymd()` function from the package **lubridate** (which belongs to the tidyverse; learn more [here](https://www.tidyverse.org/)). lubridate gets installed as part as the tidyverse installation. When you load the tidyverse (`library(tidyverse)`), the core packages (the packages used in most data analyses) get loaded. lubridate however does not belong to the core tidyverse (<span style=\"color:darkred\">**NOTE**: I loaded tidyverse on 23 Jan 2024 and found lubridate was included in the core tidyverse packages.</span> You may check in your own environment), so you have to load it explicitly with `library(lubridate)`.\n",
    "\n",
    "Start by loading the required package:"
   ]
  },
  {
   "cell_type": "code",
   "execution_count": null,
   "id": "25b09fd9-4c12-4575-8ba7-31fa00e9b9c6",
   "metadata": {},
   "outputs": [],
   "source": [
    "library(lubridate)"
   ]
  },
  {
   "cell_type": "markdown",
   "id": "91bddb92-3f84-494b-a67b-064dc0db2bd7",
   "metadata": {},
   "source": [
    "The lubridate package has many useful functions for working with dates. These can help you extract dates from different string representations, convert between timezones, calculate time differences and more. You can find an overview of them in the [lubridate cheat sheet](https://raw.githubusercontent.com/rstudio/cheatsheets/main/lubridate.pdf).\n",
    "\n",
    "Here we will use the function `ymd()`, which takes a vector representing year, month, and day, and converts it to a **Date** vector. **Date** is a class of data recognized by R as being a date and can be manipulated as such. The argument that the function requires is flexible, but, as a best practice, is a character vector formatted as “YYYY-MM-DD”.\n",
    "\n",
    "Let’s create a date object and inspect the structure:"
   ]
  },
  {
   "cell_type": "code",
   "execution_count": null,
   "id": "e7fbaa07-c034-4381-8fa9-371348b77b95",
   "metadata": {},
   "outputs": [],
   "source": [
    "my_date <- ymd(\"2015-01-01\")\n",
    "str(my_date)"
   ]
  },
  {
   "cell_type": "markdown",
   "id": "08b5d7c4-47f9-459c-8931-634d84a5adb6",
   "metadata": {},
   "source": [
    "Now let’s paste the year, month, and day separately - we get the same result:"
   ]
  },
  {
   "cell_type": "code",
   "execution_count": null,
   "id": "0df44c09-ffbb-420e-ad7f-d1c592249591",
   "metadata": {},
   "outputs": [],
   "source": [
    "# sep indicates the character to use to separate each component\n",
    "my_date <- ymd(paste(\"2015\", \"1\", \"1\", sep = \"-\")) \n",
    "str(my_date)"
   ]
  },
  {
   "cell_type": "markdown",
   "id": "99b9ec3f-c106-43bb-b489-b71b0ecc19f1",
   "metadata": {},
   "source": [
    "Now we apply this function to the surveys dataset. Create a character vector from the year, month, and day columns of surveys using `paste()`:"
   ]
  },
  {
   "cell_type": "code",
   "execution_count": null,
   "id": "d771d246-33a8-464f-a9c7-f818d780cd65",
   "metadata": {
    "scrolled": true
   },
   "outputs": [],
   "source": [
    "ymd(paste(surveys$year, surveys$month, surveys$day, sep = \"-\"))"
   ]
  },
  {
   "cell_type": "markdown",
   "id": "5ea33497-e57c-4e16-8c64-d75662b536ec",
   "metadata": {},
   "source": [
    "There is a warning telling us that some dates could not be parsed (= understood) by the `ymd()` function. For these dates, the function has returned `NA`, which means they are treated as missing values. We will deal with this problem later, but first we add the resulting Date vector to the surveys data frame as a new column called date:"
   ]
  },
  {
   "cell_type": "code",
   "execution_count": null,
   "id": "62d56de8-7646-4d2c-8793-acaeb412cb8c",
   "metadata": {},
   "outputs": [],
   "source": [
    "surveys$date <- ymd(paste(surveys$year, surveys$month, surveys$day, sep = \"-\"))\n",
    "str(surveys) # notice the new column, with 'date' as the class"
   ]
  },
  {
   "cell_type": "markdown",
   "id": "9500e361-d0ed-4f50-8dfb-738433854ee1",
   "metadata": {},
   "source": [
    "Let’s make sure everything worked correctly. One way to inspect the new column is to use `summary()`:"
   ]
  },
  {
   "cell_type": "code",
   "execution_count": null,
   "id": "c08f46ba-69cc-4391-a6ba-a59a9e59cbd5",
   "metadata": {},
   "outputs": [],
   "source": [
    "summary(surveys$date)"
   ]
  },
  {
   "cell_type": "markdown",
   "id": "1e102f35-e706-4238-8643-3c40e83a5fef",
   "metadata": {},
   "source": [
    "Let’s investigate why some dates could not be parsed.\n",
    "\n",
    "We can use the functions we saw previously to deal with missing data to identify the rows in our data frame that are failing. If we combine them with what we learned about subsetting data frames earlier, we can extract the columns “year,”month”, “day” from the records that have `NA` in our new column date. We will also use `head()` so we don’t clutter the output:"
   ]
  },
  {
   "cell_type": "code",
   "execution_count": null,
   "id": "87ed1c89-b7a5-42a3-b7b0-d58a745f2369",
   "metadata": {},
   "outputs": [],
   "source": [
    "missing_dates <- surveys[is.na(surveys$date), c(\"year\", \"month\", \"day\")]\n",
    "head(missing_dates)"
   ]
  },
  {
   "cell_type": "markdown",
   "id": "982086ad-f9a1-4c92-87ea-54663dd3e034",
   "metadata": {},
   "source": [
    "Why did these dates fail to parse? If you had to use these data for your analyses, how would you deal with this situation?\n",
    "\n",
    "The answer is because the dates provided as input for the `ymd()` function do not actually exist. If we refer to the output we got above, September and April only have 30 days, not 31 days as it is specified in our dataset.\n",
    "\n",
    "There are several ways you could deal with situation:\n",
    "- If you have access to the raw data (e.g., field sheets) or supporting information (e.g., field trip reports/logs), check them and ensure the electronic database matches the information in the original data source.\n",
    "- If you are able to contact the person responsible for collecting the data, you could refer to them and ask for clarification.\n",
    "- You could also check the rest of the dataset for clues about the correct value for the erroneous dates.\n",
    "- If your project has guidelines on how to correct this sort of errors, refer to them and apply any recommendations.\n",
    "- If it is not possible to ascertain the correct value for these observations, you may want to leave them as missing data.\n",
    "\n",
    "\n",
    "Regardless of the option you choose, it is important that you document the error and the corrections (if any) that you apply to your data."
   ]
  },
  {
   "cell_type": "markdown",
   "id": "de05ae0d-0c32-4adc-990e-8c7cc5529e4e",
   "metadata": {},
   "source": [
    "### Challenge\n",
    "- Please make a vector that contains multiple types (e.g., \"numeric\" and \"character\") and check what happens if you apply `class()` or `typeof()` to the vector."
   ]
  }
 ],
 "metadata": {
  "kernelspec": {
   "display_name": "R",
   "language": "R",
   "name": "ir"
  },
  "language_info": {
   "codemirror_mode": "r",
   "file_extension": ".r",
   "mimetype": "text/x-r-source",
   "name": "R",
   "pygments_lexer": "r",
   "version": "4.3.2"
  }
 },
 "nbformat": 4,
 "nbformat_minor": 5
}
